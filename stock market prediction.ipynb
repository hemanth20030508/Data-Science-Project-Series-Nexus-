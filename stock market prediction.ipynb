{
  "nbformat": 4,
  "nbformat_minor": 0,
  "metadata": {
    "colab": {
      "provenance": [],
      "authorship_tag": "ABX9TyMmrj/WK+AJLh+vJDOfCjqP",
      "include_colab_link": true
    },
    "kernelspec": {
      "name": "python3",
      "display_name": "Python 3"
    },
    "language_info": {
      "name": "python"
    }
  },
  "cells": [
    {
      "cell_type": "markdown",
      "metadata": {
        "id": "view-in-github",
        "colab_type": "text"
      },
      "source": [
        "<a href=\"https://colab.research.google.com/github/hemanth20030508/Bootstrap_login/blob/main/stock%20market%20prediction.ipynb\" target=\"_parent\"><img src=\"https://colab.research.google.com/assets/colab-badge.svg\" alt=\"Open In Colab\"/></a>"
      ]
    },
    {
      "cell_type": "code",
      "execution_count": 7,
      "metadata": {
        "colab": {
          "base_uri": "https://localhost:8080/"
        },
        "id": "dn2m1PGXYhwS",
        "outputId": "049ef2a4-f99d-4c2b-efc4-7adfa814f7b5"
      },
      "outputs": [
        {
          "output_type": "stream",
          "name": "stdout",
          "text": [
            "         date       open       high        low      close   adjclose  volume  \\\n",
            "0  2022-01-03  17.799999  18.219000  17.500000  17.760000  17.760000  106600   \n",
            "1  2022-01-04  17.700001  18.309999  17.620001  17.660000  17.660000  128700   \n",
            "2  2022-01-05  17.580000  17.799999  16.910000  16.950001  16.950001  103100   \n",
            "3  2022-01-06  16.650000  16.879999  16.139999  16.170000  16.170000  173600   \n",
            "4  2022-01-07  16.219999  16.290001  15.630000  15.710000  15.710000  137800   \n",
            "\n",
            "  ticker  RSIadjclose15  RSIvolume15  ...  high-15  K-15  D-15  \\\n",
            "0   ASLE            NaN          NaN  ...      NaN   NaN   NaN   \n",
            "1   ASLE            NaN          NaN  ...      NaN   NaN   NaN   \n",
            "2   ASLE            NaN          NaN  ...      NaN   NaN   NaN   \n",
            "3   ASLE            NaN          NaN  ...      NaN   NaN   NaN   \n",
            "4   ASLE            NaN          NaN  ...      NaN   NaN   NaN   \n",
            "\n",
            "   stochastic-k-15  stochastic-d-15  stochastic-kd-15  volumenrelativo  \\\n",
            "0              NaN              NaN               NaN         0.919758   \n",
            "1              NaN              NaN               NaN         1.110440   \n",
            "2              NaN              NaN               NaN         0.889560   \n",
            "3              NaN              NaN               NaN         1.497843   \n",
            "4              NaN              NaN               NaN         1.188956   \n",
            "\n",
            "       diff  INCREMENTO  TARGET  \n",
            "0 -1.900001   -9.664295     0.0  \n",
            "1 -1.379999   -7.247895     0.0  \n",
            "2 -0.930000   -5.201344     0.0  \n",
            "3 -0.360000   -2.177856     0.0  \n",
            "4 -0.120000   -0.758054     0.0  \n",
            "\n",
            "[5 rows x 1285 columns]\n",
            "              open         high          low        close     adjclose  \\\n",
            "count  2072.000000  2072.000000  2072.000000  2072.000000  2072.000000   \n",
            "mean     91.316087    92.956462    89.600995    91.290641    90.449810   \n",
            "std     180.500612   183.378166   177.319006   180.401353   178.140093   \n",
            "min       1.050000     1.150000     0.820000     1.090000     1.090000   \n",
            "25%       9.840000     9.850000     9.830000     9.840000     9.840000   \n",
            "50%      11.395000    11.830000    11.140000    11.500000    11.500000   \n",
            "75%      51.024999    51.795000    50.037498    51.197501    51.037301   \n",
            "max     795.739990   799.359985   784.960022   797.489990   783.376221   \n",
            "\n",
            "             volume  RSIadjclose15  RSIvolume15  RSIadjclose25  RSIvolume25  \\\n",
            "count  2.072000e+03    1937.000000  1937.000000    1847.000000  1847.000000   \n",
            "mean   5.519109e+05      48.980757    49.786478      49.292618    49.914291   \n",
            "std    1.017699e+06      13.469258     5.326379       9.960568     3.554262   \n",
            "min    0.000000e+00       7.260120    40.753700      23.508970    43.361270   \n",
            "25%    1.534500e+04      38.748896    47.470415      41.710983    48.440601   \n",
            "50%    1.564000e+05      49.429735    48.242106      49.813451    48.925250   \n",
            "75%    7.680750e+05      57.189888    50.335456      55.583089    50.201896   \n",
            "max    2.332940e+07      96.365095    99.622735      91.023108    97.782293   \n",
            "\n",
            "       ...      high-15         K-15         D-15  stochastic-k-15  \\\n",
            "count  ...  1945.000000  1860.000000  1836.000000      1860.000000   \n",
            "mean   ...    99.212547    45.246117    45.206550        45.246117   \n",
            "std    ...   194.459854    31.826058    29.757118        31.826058   \n",
            "min    ...     1.370000    -9.688852    -8.290901        -9.688852   \n",
            "25%    ...     9.900000    15.401122    17.910696        15.401122   \n",
            "50%    ...    13.220000    43.213378    42.194430        43.213378   \n",
            "75%    ...    57.849998    73.042178    71.213615        73.042178   \n",
            "max    ...   799.359985   100.000000   100.000000       100.000000   \n",
            "\n",
            "       stochastic-d-15  stochastic-kd-15  volumenrelativo         diff  \\\n",
            "count      1836.000000       1836.000000      1856.000000  2031.000000   \n",
            "mean         45.206550          0.189751              inf    -0.533237   \n",
            "std          29.757118         12.155048              NaN    14.027863   \n",
            "min          -8.290901        -66.666667         0.000000   -90.538818   \n",
            "25%          17.910696         -5.927422         0.663366    -0.450000   \n",
            "50%          42.194430          0.000000         1.000000     0.000000   \n",
            "75%          71.213615          5.895179         1.603479     0.279362   \n",
            "max         100.000000         66.666667              inf   120.256775   \n",
            "\n",
            "        INCREMENTO       TARGET  \n",
            "count  2031.000000  2071.000000  \n",
            "mean      0.649042     0.180106  \n",
            "std      11.580988     0.384369  \n",
            "min     -24.673205     0.000000  \n",
            "25%      -3.925770     0.000000  \n",
            "50%       0.000000     0.000000  \n",
            "75%       2.362212     0.000000  \n",
            "max     250.318539     1.000000  \n",
            "\n",
            "[8 rows x 1283 columns]\n",
            "Missing values in each column: date                  0\n",
            "open                  0\n",
            "high                  0\n",
            "low                   0\n",
            "close                 0\n",
            "                   ... \n",
            "stochastic-kd-15    236\n",
            "volumenrelativo     216\n",
            "diff                 41\n",
            "INCREMENTO           41\n",
            "TARGET                1\n",
            "Length: 1285, dtype: int64\n"
          ]
        }
      ],
      "source": [
        "import pandas as pd\n",
        "\n",
        "# Load the dataset\n",
        "file_path = 'infolimpioavanzadoTarget.csv'\n",
        "data = pd.read_csv(file_path, encoding='ascii')\n",
        "\n",
        "# Display the first few rows of the dataset to understand its structure\n",
        "print(data.head())\n",
        "\n",
        "# Display summary statistics to understand the distribution of numerical features\n",
        "print(data.describe())\n",
        "\n",
        "# Check for missing values\n",
        "missing_values = data.isnull().sum()\n",
        "print('Missing values in each column:\\\n",
        "', missing_values)"
      ]
    },
    {
      "cell_type": "code",
      "source": [
        "# Check for missing values\n",
        "data.isnull().sum()"
      ],
      "metadata": {
        "colab": {
          "base_uri": "https://localhost:8080/"
        },
        "id": "ETzYoI4EYsQS",
        "outputId": "1e8d4f36-e8c1-40a3-fcca-3e0b1c0b0f0c"
      },
      "execution_count": 9,
      "outputs": [
        {
          "output_type": "execute_result",
          "data": {
            "text/plain": [
              "date                  0\n",
              "open                  0\n",
              "high                  0\n",
              "low                   0\n",
              "close                 0\n",
              "                   ... \n",
              "stochastic-kd-15    236\n",
              "volumenrelativo     216\n",
              "diff                 41\n",
              "INCREMENTO           41\n",
              "TARGET                1\n",
              "Length: 1285, dtype: int64"
            ]
          },
          "metadata": {},
          "execution_count": 9
        }
      ]
    },
    {
      "cell_type": "code",
      "source": [
        "from google.colab import drive\n",
        "drive.mount('/content/drive')"
      ],
      "metadata": {
        "id": "YyNN-VXKZ_0e"
      },
      "execution_count": null,
      "outputs": []
    },
    {
      "cell_type": "code",
      "source": [
        "# Fill missing values using forward fill method\n",
        "data_filled = data.fillna(method='ffill')\n",
        "\n",
        "# Check if there are still any missing values after filling\n",
        "data_filled.isnull().sum().sum()\n",
        "\n",
        "# Split the dataset into features (X) and target (y) variables\n",
        "# Assuming 'close' as the target variable for prediction\n",
        "X = data_filled.drop(['close', 'date', 'ticker'], axis=1)  # Dropping 'date' and 'ticker' as they are non-numeric\n",
        "y = data_filled['close']\n",
        "\n",
        "# Split the data into training and testing sets\n",
        "from sklearn.model_selection import train_test_split\n",
        "\n",
        "X_train, X_test, y_train, y_test = train_test_split(X, y, test_size=0.2, random_state=42)\n",
        "\n",
        "# Output the shape of the training and testing sets to confirm the split\n",
        "print('Training set shape:', X_train.shape)\n",
        "print('Testing set shape:', X_test.shape)"
      ],
      "metadata": {
        "colab": {
          "base_uri": "https://localhost:8080/"
        },
        "id": "sqsQRP49Y8or",
        "outputId": "eae9cf99-3025-4111-e272-6f23e28bfa36"
      },
      "execution_count": 8,
      "outputs": [
        {
          "output_type": "stream",
          "name": "stdout",
          "text": [
            "Training set shape: (1657, 1282)\n",
            "Testing set shape: (415, 1282)\n"
          ]
        }
      ]
    }
  ]
}